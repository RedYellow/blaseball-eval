{
 "cells": [
  {
   "cell_type": "markdown",
   "metadata": {},
   "source": [
    "# Obtaining data\n",
    "\n",
    "We use blaseball_mike as an wrapper to query the Datablase API.\n",
    "First we obtain all stats for all players, and write the raw data into JSONs."
   ]
  },
  {
   "cell_type": "code",
   "execution_count": 10,
   "metadata": {},
   "outputs": [],
   "source": [
    "from blaseball_mike import reference as r\n",
    "from blaseball_mike.models import Team\n",
    "import json\n",
    "import pandas as pd\n",
    "import qgrid"
   ]
  },
  {
   "cell_type": "code",
   "execution_count": 4,
   "metadata": {},
   "outputs": [],
   "source": [
    "p_stats = r.get_stats()"
   ]
  },
  {
   "cell_type": "code",
   "execution_count": 12,
   "metadata": {},
   "outputs": [],
   "source": [
    "with open(\"player_stats.json\", \"w\") as f:\n",
    "    json.dump(p_stats, f)"
   ]
  },
  {
   "cell_type": "markdown",
   "metadata": {},
   "source": [
    "# EDA\n",
    "\n",
    "Now we want to split up the raw data between hitters and pitchers and look at the stats in a spreadsheet format."
   ]
  },
  {
   "cell_type": "markdown",
   "metadata": {},
   "source": [
    "## Hitting data"
   ]
  },
  {
   "cell_type": "code",
   "execution_count": 180,
   "metadata": {
    "scrolled": true
   },
   "outputs": [
    {
     "data": {
      "application/vnd.jupyter.widget-view+json": {
       "model_id": "68ef97f1196b404b81cd70d978551337",
       "version_major": 2,
       "version_minor": 0
      },
      "text/plain": [
       "QgridWidget(grid_options={'fullWidthRows': True, 'syncColumnCellResize': True, 'forceFitColumns': False, 'defa…"
      ]
     },
     "metadata": {},
     "output_type": "display_data"
    }
   ],
   "source": [
    "hitting_df = pd.DataFrame([[i[\"player\"][\"fullName\"]]+[i[\"player\"][\"id\"]]+[i[\"team\"][\"team_abbreviation\"]]+[i[\"team\"][\"team_id\"]]+list(i[\"stat\"].values()) for i in p_stats[0][\"splits\"]], \n",
    "                         columns = [\"name\",\"id\", \"team_abb\", \"team_id\"]+list(p_stats[0][\"splits\"][0][\"stat\"].keys()))\n",
    "import qgrid\n",
    "q_widget = qgrid.show_grid(hitting_df, show_toolbar=True, grid_options={\"forceFitColumns\":False, \"defaultColumnWidth\":50})\n",
    "q_widget"
   ]
  },
  {
   "cell_type": "markdown",
   "metadata": {},
   "source": [
    "### Note\n",
    "Some players may have more than one row (this data describes one season). This is because a player may be Feedbacked\n",
    "to another team in the middle of the season. Note that team names are currently bugged when this happens, so the \n",
    "team before and after will have the same name.\n",
    "\n",
    "Note that \"NaN\" is an actual player and not an error.\n",
    "\n",
    "\"Duplicate\" hitters:"
   ]
  },
  {
   "cell_type": "code",
   "execution_count": 46,
   "metadata": {
    "scrolled": false
   },
   "outputs": [
    {
     "data": {
      "text/html": [
       "<div>\n",
       "<style scoped>\n",
       "    .dataframe tbody tr th:only-of-type {\n",
       "        vertical-align: middle;\n",
       "    }\n",
       "\n",
       "    .dataframe tbody tr th {\n",
       "        vertical-align: top;\n",
       "    }\n",
       "\n",
       "    .dataframe thead th {\n",
       "        text-align: right;\n",
       "    }\n",
       "</style>\n",
       "<table border=\"1\" class=\"dataframe\">\n",
       "  <thead>\n",
       "    <tr style=\"text-align: right;\">\n",
       "      <th></th>\n",
       "      <th>team_abb</th>\n",
       "    </tr>\n",
       "    <tr>\n",
       "      <th>name</th>\n",
       "      <th></th>\n",
       "    </tr>\n",
       "  </thead>\n",
       "  <tbody>\n",
       "    <tr>\n",
       "      <th>Bates Bentley</th>\n",
       "      <td>2</td>\n",
       "    </tr>\n",
       "    <tr>\n",
       "      <th>Fletcher Yamamoto</th>\n",
       "      <td>2</td>\n",
       "    </tr>\n",
       "    <tr>\n",
       "      <th>NaN</th>\n",
       "      <td>3</td>\n",
       "    </tr>\n",
       "  </tbody>\n",
       "</table>\n",
       "</div>"
      ],
      "text/plain": [
       "                   team_abb\n",
       "name                       \n",
       "Bates Bentley             2\n",
       "Fletcher Yamamoto         2\n",
       "NaN                       3"
      ]
     },
     "execution_count": 46,
     "metadata": {},
     "output_type": "execute_result"
    }
   ],
   "source": [
    "\n",
    "\n",
    "g1 = hitting_df[[\"name\", \"team_abb\"]].groupby(\"name\").count()\n",
    "g1.loc[g[\"team_abb\"] > 1]\n",
    "#hitting_df.loc[hitting_df[\"name\"] == \"NaN\"]"
   ]
  },
  {
   "cell_type": "markdown",
   "metadata": {},
   "source": [
    "## Pitching data"
   ]
  },
  {
   "cell_type": "code",
   "execution_count": 178,
   "metadata": {
    "scrolled": true
   },
   "outputs": [
    {
     "data": {
      "application/vnd.jupyter.widget-view+json": {
       "model_id": "0a62711bfb174e5fb178e4f69db13ef7",
       "version_major": 2,
       "version_minor": 0
      },
      "text/plain": [
       "QgridWidget(grid_options={'fullWidthRows': True, 'syncColumnCellResize': True, 'forceFitColumns': False, 'defa…"
      ]
     },
     "metadata": {},
     "output_type": "display_data"
    }
   ],
   "source": [
    "with open(\"player_stats.json\", \"r\") as f:\n",
    "    p_stats = json.load(f)\n",
    "pitching_df = pd.DataFrame([[i[\"player\"][\"fullName\"]]+[i[\"player\"][\"id\"]]+[i[\"team\"][\"team_abbreviation\"]]+[i[\"team\"][\"team_id\"]]+list(i[\"stat\"].values()) for i in p_stats[1][\"splits\"]], \n",
    "                         columns = [\"name\",\"id\", \"team_abb\", \"team_id\"]+list(p_stats[1][\"splits\"][0][\"stat\"].keys()))\n",
    "\n",
    "q_widget = qgrid.show_grid(pitching_df, show_toolbar=True, grid_options={\"forceFitColumns\":False, \"defaultColumnWidth\":50})\n",
    "q_widget"
   ]
  },
  {
   "cell_type": "markdown",
   "metadata": {},
   "source": [
    "\"Duplicate\" pitchers:"
   ]
  },
  {
   "cell_type": "code",
   "execution_count": 242,
   "metadata": {},
   "outputs": [
    {
     "data": {
      "text/html": [
       "<div>\n",
       "<style scoped>\n",
       "    .dataframe tbody tr th:only-of-type {\n",
       "        vertical-align: middle;\n",
       "    }\n",
       "\n",
       "    .dataframe tbody tr th {\n",
       "        vertical-align: top;\n",
       "    }\n",
       "\n",
       "    .dataframe thead th {\n",
       "        text-align: right;\n",
       "    }\n",
       "</style>\n",
       "<table border=\"1\" class=\"dataframe\">\n",
       "  <thead>\n",
       "    <tr style=\"text-align: right;\">\n",
       "      <th></th>\n",
       "      <th>team_abb</th>\n",
       "    </tr>\n",
       "    <tr>\n",
       "      <th>name</th>\n",
       "      <th></th>\n",
       "    </tr>\n",
       "  </thead>\n",
       "  <tbody>\n",
       "    <tr>\n",
       "      <th>Agan Harrison</th>\n",
       "      <td>2</td>\n",
       "    </tr>\n",
       "    <tr>\n",
       "      <th>Edric Tosser</th>\n",
       "      <td>2</td>\n",
       "    </tr>\n",
       "    <tr>\n",
       "      <th>James Mora</th>\n",
       "      <td>2</td>\n",
       "    </tr>\n",
       "    <tr>\n",
       "      <th>Jaylen Hotdogfingers</th>\n",
       "      <td>3</td>\n",
       "    </tr>\n",
       "    <tr>\n",
       "      <th>Yeong-Ho Garcia</th>\n",
       "      <td>2</td>\n",
       "    </tr>\n",
       "  </tbody>\n",
       "</table>\n",
       "</div>"
      ],
      "text/plain": [
       "                      team_abb\n",
       "name                          \n",
       "Agan Harrison                2\n",
       "Edric Tosser                 2\n",
       "James Mora                   2\n",
       "Jaylen Hotdogfingers         3\n",
       "Yeong-Ho Garcia              2"
      ]
     },
     "execution_count": 242,
     "metadata": {},
     "output_type": "execute_result"
    }
   ],
   "source": [
    "g2 = pitching_df[[\"name\", \"team_abb\"]].groupby(\"name\").count()\n",
    "g2.loc[g2[\"team_abb\"] > 1]"
   ]
  },
  {
   "cell_type": "code",
   "execution_count": 49,
   "metadata": {},
   "outputs": [],
   "source": [
    "hitting_df.to_csv(\"hitting.csv\", index=False)\n",
    "pitching_df.to_csv(\"pitching.csv\", index=False)"
   ]
  },
  {
   "cell_type": "markdown",
   "metadata": {},
   "source": [
    "## Relative Performance\n",
    "\n",
    "It's useful to have a sense of what \"good\" looks like in a stat, so we look at some summary statistics that describe the distributions of different stats, and the quartiles of performance so we get an idea of what is above/below/exactly average.\n",
    "\n",
    "Note that these stats ignore any player who has an N/A in their column, which usually means that they do not have enough data to properly compute a stat. There still may be some players who have played a low number of games and still end up being used in this frame though."
   ]
  },
  {
   "cell_type": "markdown",
   "metadata": {},
   "source": [
    "### Relative Hitting Performance"
   ]
  },
  {
   "cell_type": "code",
   "execution_count": 176,
   "metadata": {
    "scrolled": true
   },
   "outputs": [
    {
     "data": {
      "application/vnd.jupyter.widget-view+json": {
       "model_id": "ac668da522f549339ed56fa6e0995cde",
       "version_major": 2,
       "version_minor": 0
      },
      "text/plain": [
       "QgridWidget(grid_options={'fullWidthRows': True, 'syncColumnCellResize': True, 'forceFitColumns': True, 'defau…"
      ]
     },
     "metadata": {},
     "output_type": "display_data"
    }
   ],
   "source": [
    "stats_frame = hitting_df.drop(columns=[\"id\", \"name\", \"team_abb\", \"team_id\"], axis=1).dropna()\n",
    "sum_stats = [stats_frame[col].describe().reset_index(drop=True) for col in stats_frame.columns]\n",
    "h_summary = pd.DataFrame(sum_stats)\n",
    "h_summary.columns = [\"count\", \"mean\", \"std\", \"min\", \"25%\", \"50%\", \"75%\", \"max\"]\n",
    "q_widget = qgrid.show_grid(h_summary.round(2), show_toolbar=True)\n",
    "q_widget"
   ]
  },
  {
   "cell_type": "markdown",
   "metadata": {},
   "source": [
    "### Relative Pitching Performance"
   ]
  },
  {
   "cell_type": "code",
   "execution_count": 175,
   "metadata": {},
   "outputs": [
    {
     "data": {
      "application/vnd.jupyter.widget-view+json": {
       "model_id": "bfc64acd7aa24fb9abd98cee1d467858",
       "version_major": 2,
       "version_minor": 0
      },
      "text/plain": [
       "QgridWidget(grid_options={'fullWidthRows': True, 'syncColumnCellResize': True, 'forceFitColumns': True, 'defau…"
      ]
     },
     "metadata": {},
     "output_type": "display_data"
    }
   ],
   "source": [
    "stats_frame = pitching_df.drop(columns=[\"id\", \"name\", \"team_abb\", \"team_id\"], axis=1).dropna()\n",
    "sum_stats = [stats_frame[col].describe().reset_index(drop=True) for col in stats_frame.columns]\n",
    "p_summary = pd.DataFrame(sum_stats)\n",
    "p_summary.columns = [\"count\", \"mean\", \"std\", \"min\", \"25%\", \"50%\", \"75%\", \"max\"]\n",
    "q_widget = qgrid.show_grid(p_summary.round(2), show_toolbar=True)\n",
    "q_widget"
   ]
  },
  {
   "cell_type": "markdown",
   "metadata": {},
   "source": [
    "# Also do one with the player's names and equivalent percentile for each stat ?"
   ]
  },
  {
   "cell_type": "code",
   "execution_count": null,
   "metadata": {},
   "outputs": [],
   "source": [
    "import numpy as np\n",
    "from bokeh.plotting import figure\n",
    "from bokeh.io import output_notebook, show, output_file\n",
    "from bokeh.models import ColumnDataSource, HoverTool, Panel\n",
    "from bokeh.models.widgets import Tabs\n",
    "\n"
   ]
  },
  {
   "cell_type": "markdown",
   "metadata": {},
   "source": [
    "# Team averages\n",
    "\n",
    "Now we want to look at average stats for teams, to see who is performing the best overall.\n",
    "\n",
    "## Getting averages\n",
    "\n",
    "We just split the player data by team and write them to separate JSONs."
   ]
  },
  {
   "cell_type": "code",
   "execution_count": 123,
   "metadata": {},
   "outputs": [],
   "source": [
    "data_folder = \"DATA/\"\n",
    "id_to_name = hitting_df[[\"team_id\", \"team_abb\"]].drop_duplicates().to_dict(\"records\")\n",
    "for team in id_to_name:\n",
    "    with open(data_folder+team[\"team_abb\"]+\".json\", \"w\") as f:\n",
    "        json.dump(r.get_stats(team_id=team[\"team_id\"]), f)\n",
    "        "
   ]
  },
  {
   "cell_type": "markdown",
   "metadata": {},
   "source": [
    "Then we turn the JSONs into CSVs and calculate averages for all players in the sheet, to be stored as a row in the sheet under [\"name\"] `team_avg`."
   ]
  },
  {
   "cell_type": "code",
   "execution_count": null,
   "metadata": {},
   "outputs": [],
   "source": [
    "csv_folder = data_folder+\"CSV/\"\n",
    "for team in id_to_name:\n",
    "    with open(data_folder+team[\"team_abb\"]+\".json\", \"r\") as f:\n",
    "        js = json.load(f)\n",
    "        frame = pd.DataFrame([[i[\"player\"][\"fullName\"]]+list(i[\"stat\"].values()) for i in js[0][\"splits\"]], columns=[\"name\"]+list(js[0][\"splits\"][0][\"stat\"].keys()))\n",
    "        avgs = frame.mean(axis=0).round(3)\n",
    "        avgs[\"name\"] = \"team_avg\"\n",
    "        frame = frame.append(avgs, ignore_index=True)\n",
    "        frame.set_index(keys=\"name\", inplace=True)\n",
    "        frame.to_csv(csv_folder+team[\"team_abb\"]+\"_hitting.csv\")\n",
    "        \n",
    "        frame = pd.DataFrame([[i[\"player\"][\"fullName\"]]+list(i[\"stat\"].values()) for i in js[1][\"splits\"]], columns=[\"name\"]+list(js[1][\"splits\"][0][\"stat\"].keys()))\n",
    "        avgs = frame.mean(axis=0).round(3)\n",
    "        avgs[\"name\"] = \"team_avg\"\n",
    "        frame = frame.append(avgs, ignore_index=True)\n",
    "        frame.set_index(keys=\"name\", inplace=True)\n",
    "        frame.to_csv(csv_folder+team[\"team_abb\"]+\"_pitching.csv\")\n"
   ]
  },
  {
   "cell_type": "markdown",
   "metadata": {},
   "source": [
    "Use these functions to get the tables with the averages; the team_avg data is not stored in the file but is calculated by these functions."
   ]
  },
  {
   "cell_type": "code",
   "execution_count": 157,
   "metadata": {},
   "outputs": [],
   "source": [
    "def get_team_hitting_avg_df():\n",
    "    avgs = []\n",
    "    for team in id_to_name:\n",
    "        df = pd.read_csv(csv_folder+team[\"team_abb\"]+\"_hitting.csv\", index_col=\"name\")\n",
    "        avg = df.iloc[-1]\n",
    "        avgs.append(avg)\n",
    "    avg_frame = pd.DataFrame(avgs, index = [team[\"team_abb\"] for team in id_to_name])\n",
    "    return avg_frame\n",
    "\n",
    "def get_team_pitching_avg_df():\n",
    "    avgs = []\n",
    "    for team in id_to_name:\n",
    "        df = pd.read_csv(csv_folder+team[\"team_abb\"]+\"_pitching.csv\", index_col=\"name\")\n",
    "        avg = df.iloc[-1]\n",
    "        avgs.append(avg)\n",
    "    avg_frame = pd.DataFrame(avgs, index = [team[\"team_abb\"] for team in id_to_name])\n",
    "    return avg_frame"
   ]
  },
  {
   "cell_type": "code",
   "execution_count": 169,
   "metadata": {
    "scrolled": true
   },
   "outputs": [
    {
     "data": {
      "application/vnd.jupyter.widget-view+json": {
       "model_id": "03912eb98a5149e6a69d953f8c853f27",
       "version_major": 2,
       "version_minor": 0
      },
      "text/plain": [
       "QgridWidget(grid_options={'fullWidthRows': True, 'syncColumnCellResize': True, 'forceFitColumns': False, 'defa…"
      ]
     },
     "metadata": {},
     "output_type": "display_data"
    }
   ],
   "source": [
    "avg_hitting = get_team_hitting_avg_df()\n",
    "q_widget = qgrid.show_grid(avg_hitting, show_toolbar=True, grid_options={\"forceFitColumns\":False, \"defaultColumnWidth\":70})\n",
    "q_widget"
   ]
  },
  {
   "cell_type": "code",
   "execution_count": 182,
   "metadata": {
    "scrolled": true
   },
   "outputs": [
    {
     "data": {
      "application/vnd.jupyter.widget-view+json": {
       "model_id": "7b092f3e61b0463fa717956afb80b25a",
       "version_major": 2,
       "version_minor": 0
      },
      "text/plain": [
       "QgridWidget(grid_options={'fullWidthRows': True, 'syncColumnCellResize': True, 'forceFitColumns': False, 'defa…"
      ]
     },
     "metadata": {},
     "output_type": "display_data"
    }
   ],
   "source": [
    "avg_pitching = get_team_pitching_avg_df()\n",
    "q_widget = qgrid.show_grid(avg_pitching, show_toolbar=True, grid_options={\"forceFitColumns\":False, \"defaultColumnWidth\":70})\n",
    "q_widget"
   ]
  },
  {
   "cell_type": "markdown",
   "metadata": {},
   "source": [
    "# It occurs to me that some of the stats are averages of averages, which doesn't work (unless corrected for by the number of games/appearances)\n",
    "\n",
    "# Ranking\n",
    "Now let's try ranking the hitters by several stats at once, using a rank fusion algorithm to calculate an overall ranking."
   ]
  },
  {
   "cell_type": "code",
   "execution_count": 236,
   "metadata": {},
   "outputs": [],
   "source": [
    "def ranker(df, labels, asc_list=None, top=5):\n",
    "    if asc_list == None:\n",
    "        asc_list = len(labels)*[True] \n",
    "    \n",
    "    rankings = [df[label].rank(ascending=asc) for asc, label in zip(asc_list, labels)]\n",
    "    frame = pd.DataFrame(rankings)\n",
    "    sum_ = frame.sum(axis=0).round(3)\n",
    "    try:\n",
    "        sum_.index = df[\"name\"]\n",
    "    except KeyError:\n",
    "        pass\n",
    "    return(sum_.sort_values(ascending=False)[:top])"
   ]
  },
  {
   "cell_type": "markdown",
   "metadata": {},
   "source": [
    "## Ranking Hitters"
   ]
  },
  {
   "cell_type": "code",
   "execution_count": 229,
   "metadata": {
    "scrolled": false
   },
   "outputs": [
    {
     "data": {
      "text/plain": [
       "name\n",
       "Dudley Mueller          902.0\n",
       "Aldon Cashmoney         897.0\n",
       "Jaxon Buckley           888.0\n",
       "Valentine Games         887.5\n",
       "Nagomi Mcdaniel         881.0\n",
       "Jode Preston            873.0\n",
       "Comfort Septemberish    860.0\n",
       "Margarito Nava          852.5\n",
       "Eduardo Woodman         852.0\n",
       "Rai Spliff              845.5\n",
       "dtype: float64"
      ]
     },
     "execution_count": 229,
     "metadata": {},
     "output_type": "execute_result"
    }
   ],
   "source": [
    "hitting_ranks = ranker(hitting_df, labels=[\"on_base_slugging\", \"total_bases\", \"batting_average\", \"runs_batted_in\"], top=10)\n",
    "hitting_ranks"
   ]
  },
  {
   "cell_type": "markdown",
   "metadata": {},
   "source": [
    "## Ranking Pitchers"
   ]
  },
  {
   "cell_type": "code",
   "execution_count": 238,
   "metadata": {
    "scrolled": true
   },
   "outputs": [
    {
     "data": {
      "text/plain": [
       "name\n",
       "Agan Harrison        296.0\n",
       "Agan Harrison        277.0\n",
       "Edric Tosser         276.0\n",
       "Edric Tosser         275.0\n",
       "Peanut Bong          275.0\n",
       "Percival Wheeler     274.5\n",
       "Cory Twelve          264.5\n",
       "Stephanie Winters    251.0\n",
       "Sexton Wheerer       251.0\n",
       "Mooney Doctor        249.0\n",
       "dtype: float64"
      ]
     },
     "execution_count": 238,
     "metadata": {},
     "output_type": "execute_result"
    }
   ],
   "source": [
    "pitching_ranks = ranker(pitching_df, labels=[\"earned_run_average\", \"strikeouts\", \"whip\", \"hits_allowed\"], asc_list=[True, True, True, False], top=10)\n",
    "pitching_ranks"
   ]
  },
  {
   "cell_type": "markdown",
   "metadata": {},
   "source": [
    "### Calculating better metrics\n",
    "## Hitters:\n",
    "- We will calculate Runs Created (RC)\n",
    "The technical formula for this is \n",
    "\n",
    "    `((hits+walks-caught_stealing+hit_by_pitch-gidp) * (total_bases +(.26 * (walks-intentional_walks+hit_by_pitch)) + (.52 * ( sacrifice_hits+sacrifice_flies+stolen_bases))) / (at_bats+walks+hit_by_pitch+sacrifice_hit+sacrifice_flies)`"
   ]
  }
 ],
 "metadata": {
  "kernelspec": {
   "display_name": "Python 3",
   "language": "python",
   "name": "python3"
  },
  "language_info": {
   "codemirror_mode": {
    "name": "ipython",
    "version": 3
   },
   "file_extension": ".py",
   "mimetype": "text/x-python",
   "name": "python",
   "nbconvert_exporter": "python",
   "pygments_lexer": "ipython3",
   "version": "3.8.2"
  }
 },
 "nbformat": 4,
 "nbformat_minor": 4
}
