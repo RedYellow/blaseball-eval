{
 "cells": [
  {
   "cell_type": "markdown",
   "metadata": {},
   "source": [
    "# Obtaining data\n",
    "\n",
    "We use blaseball_mike as an wrapper to query the Datablase API.\n",
    "First we obtain all stats for all players, and write the raw data into JSONs."
   ]
  },
  {
   "cell_type": "code",
   "execution_count": 10,
   "metadata": {},
   "outputs": [],
   "source": [
    "from blaseball_mike import reference as r\n",
    "from blaseball_mike.models import Team\n",
    "import json\n",
    "import pandas as pd\n",
    "import qgrid"
   ]
  },
  {
   "cell_type": "code",
   "execution_count": 4,
   "metadata": {},
   "outputs": [],
   "source": [
    "p_stats = r.get_stats()"
   ]
  },
  {
   "cell_type": "code",
   "execution_count": 12,
   "metadata": {},
   "outputs": [],
   "source": [
    "with open(\"player_stats.json\", \"w\") as f:\n",
    "    json.dump(p_stats, f)"
   ]
  },
  {
   "cell_type": "markdown",
   "metadata": {},
   "source": [
    "# EDA\n",
    "\n",
    "Now we want to split up the raw data between hitters and pitchers and look at the stats in a spreadsheet format.\n",
    "## Hitting data"
   ]
  },
  {
   "cell_type": "code",
   "execution_count": 180,
   "metadata": {
    "scrolled": true
   },
   "outputs": [
    {
     "data": {
      "application/vnd.jupyter.widget-view+json": {
       "model_id": "68ef97f1196b404b81cd70d978551337",
       "version_major": 2,
       "version_minor": 0
      },
      "text/plain": [
       "QgridWidget(grid_options={'fullWidthRows': True, 'syncColumnCellResize': True, 'forceFitColumns': False, 'defa…"
      ]
     },
     "metadata": {},
     "output_type": "display_data"
    }
   ],
   "source": [
    "hitting_df = pd.DataFrame([[i[\"player\"][\"fullName\"]]+[i[\"player\"][\"id\"]]+[i[\"team\"][\"team_abbreviation\"]]+[i[\"team\"][\"team_id\"]]+list(i[\"stat\"].values()) for i in p_stats[0][\"splits\"]], \n",
    "                         columns = [\"name\",\"id\", \"team_abb\", \"team_id\"]+list(p_stats[0][\"splits\"][0][\"stat\"].keys()))\n",
    "import qgrid\n",
    "q_widget = qgrid.show_grid(hitting_df, show_toolbar=True, grid_options={\"forceFitColumns\":False, \"defaultColumnWidth\":50})\n",
    "q_widget"
   ]
  },
  {
   "cell_type": "markdown",
   "metadata": {},
   "source": [
    "### Note\n",
    "Some players may have more than one row (this data describes one season). This is because a player may be Feedbacked\n",
    "to another team in the middle of the season. Note that team names are currently bugged when this happens, so the \n",
    "team before and after will have the same name.\n",
    "\n",
    "Note that \"NaN\" is an actual player and not an error.\n",
    "\n",
    "\"Duplicate\" hitters:"
   ]
  },
  {
   "cell_type": "code",
   "execution_count": 46,
   "metadata": {
    "scrolled": false
   },
   "outputs": [
    {
     "data": {
      "text/html": [
       "<div>\n",
       "<style scoped>\n",
       "    .dataframe tbody tr th:only-of-type {\n",
       "        vertical-align: middle;\n",
       "    }\n",
       "\n",
       "    .dataframe tbody tr th {\n",
       "        vertical-align: top;\n",
       "    }\n",
       "\n",
       "    .dataframe thead th {\n",
       "        text-align: right;\n",
       "    }\n",
       "</style>\n",
       "<table border=\"1\" class=\"dataframe\">\n",
       "  <thead>\n",
       "    <tr style=\"text-align: right;\">\n",
       "      <th></th>\n",
       "      <th>team_abb</th>\n",
       "    </tr>\n",
       "    <tr>\n",
       "      <th>name</th>\n",
       "      <th></th>\n",
       "    </tr>\n",
       "  </thead>\n",
       "  <tbody>\n",
       "    <tr>\n",
       "      <th>Bates Bentley</th>\n",
       "      <td>2</td>\n",
       "    </tr>\n",
       "    <tr>\n",
       "      <th>Fletcher Yamamoto</th>\n",
       "      <td>2</td>\n",
       "    </tr>\n",
       "    <tr>\n",
       "      <th>NaN</th>\n",
       "      <td>3</td>\n",
       "    </tr>\n",
       "  </tbody>\n",
       "</table>\n",
       "</div>"
      ],
      "text/plain": [
       "                   team_abb\n",
       "name                       \n",
       "Bates Bentley             2\n",
       "Fletcher Yamamoto         2\n",
       "NaN                       3"
      ]
     },
     "execution_count": 46,
     "metadata": {},
     "output_type": "execute_result"
    }
   ],
   "source": [
    "g1 = hitting_df[[\"name\", \"team_abb\"]].groupby(\"name\").count()\n",
    "g1.loc[g1[\"team_abb\"] > 1]\n",
    "#hitting_df.loc[hitting_df[\"name\"] == \"NaN\"]"
   ]
  },
  {
   "cell_type": "markdown",
   "metadata": {},
   "source": [
    "## Pitching data"
   ]
  },
  {
   "cell_type": "code",
   "execution_count": 178,
   "metadata": {
    "scrolled": true
   },
   "outputs": [
    {
     "data": {
      "application/vnd.jupyter.widget-view+json": {
       "model_id": "0a62711bfb174e5fb178e4f69db13ef7",
       "version_major": 2,
       "version_minor": 0
      },
      "text/plain": [
       "QgridWidget(grid_options={'fullWidthRows': True, 'syncColumnCellResize': True, 'forceFitColumns': False, 'defa…"
      ]
     },
     "metadata": {},
     "output_type": "display_data"
    }
   ],
   "source": [
    "with open(\"player_stats.json\", \"r\") as f:\n",
    "    p_stats = json.load(f)\n",
    "pitching_df = pd.DataFrame([[i[\"player\"][\"fullName\"]]+[i[\"player\"][\"id\"]]+[i[\"team\"][\"team_abbreviation\"]]+[i[\"team\"][\"team_id\"]]+list(i[\"stat\"].values()) for i in p_stats[1][\"splits\"]], \n",
    "                         columns = [\"name\",\"id\", \"team_abb\", \"team_id\"]+list(p_stats[1][\"splits\"][0][\"stat\"].keys()))\n",
    "\n",
    "q_widget = qgrid.show_grid(pitching_df, show_toolbar=True, grid_options={\"forceFitColumns\":False, \"defaultColumnWidth\":50})\n",
    "q_widget"
   ]
  },
  {
   "cell_type": "markdown",
   "metadata": {},
   "source": [
    "\"Duplicate\" pitchers:"
   ]
  },
  {
   "cell_type": "code",
   "execution_count": 242,
   "metadata": {},
   "outputs": [
    {
     "data": {
      "text/html": [
       "<div>\n",
       "<style scoped>\n",
       "    .dataframe tbody tr th:only-of-type {\n",
       "        vertical-align: middle;\n",
       "    }\n",
       "\n",
       "    .dataframe tbody tr th {\n",
       "        vertical-align: top;\n",
       "    }\n",
       "\n",
       "    .dataframe thead th {\n",
       "        text-align: right;\n",
       "    }\n",
       "</style>\n",
       "<table border=\"1\" class=\"dataframe\">\n",
       "  <thead>\n",
       "    <tr style=\"text-align: right;\">\n",
       "      <th></th>\n",
       "      <th>team_abb</th>\n",
       "    </tr>\n",
       "    <tr>\n",
       "      <th>name</th>\n",
       "      <th></th>\n",
       "    </tr>\n",
       "  </thead>\n",
       "  <tbody>\n",
       "    <tr>\n",
       "      <th>Agan Harrison</th>\n",
       "      <td>2</td>\n",
       "    </tr>\n",
       "    <tr>\n",
       "      <th>Edric Tosser</th>\n",
       "      <td>2</td>\n",
       "    </tr>\n",
       "    <tr>\n",
       "      <th>James Mora</th>\n",
       "      <td>2</td>\n",
       "    </tr>\n",
       "    <tr>\n",
       "      <th>Jaylen Hotdogfingers</th>\n",
       "      <td>3</td>\n",
       "    </tr>\n",
       "    <tr>\n",
       "      <th>Yeong-Ho Garcia</th>\n",
       "      <td>2</td>\n",
       "    </tr>\n",
       "  </tbody>\n",
       "</table>\n",
       "</div>"
      ],
      "text/plain": [
       "                      team_abb\n",
       "name                          \n",
       "Agan Harrison                2\n",
       "Edric Tosser                 2\n",
       "James Mora                   2\n",
       "Jaylen Hotdogfingers         3\n",
       "Yeong-Ho Garcia              2"
      ]
     },
     "execution_count": 242,
     "metadata": {},
     "output_type": "execute_result"
    }
   ],
   "source": [
    "g2 = pitching_df[[\"name\", \"team_abb\"]].groupby(\"name\").count()\n",
    "g2.loc[g2[\"team_abb\"] > 1]"
   ]
  },
  {
   "cell_type": "code",
   "execution_count": 49,
   "metadata": {},
   "outputs": [],
   "source": [
    "hitting_df.to_csv(\"hitting.csv\", index=False)\n",
    "pitching_df.to_csv(\"pitching.csv\", index=False)"
   ]
  },
  {
   "cell_type": "markdown",
   "metadata": {},
   "source": [
    "## Relative Performance\n",
    "\n",
    "It's useful to have a sense of what \"good\" looks like in a stat, so we look at some summary statistics that describe the distributions of different stats, and the quartiles of performance so we get an idea of what is above/below/exactly average.\n",
    "\n",
    "Note that these stats ignore any player who has an N/A in their column, which usually means that they do not have enough data to properly compute a stat. There still may be some players who have played a low number of games and still end up being used in this frame though."
   ]
  },
  {
   "cell_type": "markdown",
   "metadata": {},
   "source": [
    "### Relative Hitting Performance"
   ]
  },
  {
   "cell_type": "code",
   "execution_count": 176,
   "metadata": {
    "scrolled": true
   },
   "outputs": [
    {
     "data": {
      "application/vnd.jupyter.widget-view+json": {
       "model_id": "ac668da522f549339ed56fa6e0995cde",
       "version_major": 2,
       "version_minor": 0
      },
      "text/plain": [
       "QgridWidget(grid_options={'fullWidthRows': True, 'syncColumnCellResize': True, 'forceFitColumns': True, 'defau…"
      ]
     },
     "metadata": {},
     "output_type": "display_data"
    }
   ],
   "source": [
    "stats_frame = hitting_df.drop(columns=[\"id\", \"name\", \"team_abb\", \"team_id\"], axis=1).dropna()\n",
    "sum_stats = [stats_frame[col].describe().reset_index(drop=True) for col in stats_frame.columns]\n",
    "h_summary = pd.DataFrame(sum_stats)\n",
    "h_summary.columns = [\"count\", \"mean\", \"std\", \"min\", \"25%\", \"50%\", \"75%\", \"max\"]\n",
    "q_widget = qgrid.show_grid(h_summary.round(2), show_toolbar=True)\n",
    "q_widget"
   ]
  },
  {
   "cell_type": "markdown",
   "metadata": {},
   "source": [
    "### Relative Pitching Performance"
   ]
  },
  {
   "cell_type": "code",
   "execution_count": 175,
   "metadata": {},
   "outputs": [
    {
     "data": {
      "application/vnd.jupyter.widget-view+json": {
       "model_id": "bfc64acd7aa24fb9abd98cee1d467858",
       "version_major": 2,
       "version_minor": 0
      },
      "text/plain": [
       "QgridWidget(grid_options={'fullWidthRows': True, 'syncColumnCellResize': True, 'forceFitColumns': True, 'defau…"
      ]
     },
     "metadata": {},
     "output_type": "display_data"
    }
   ],
   "source": [
    "stats_frame = pitching_df.drop(columns=[\"id\", \"name\", \"team_abb\", \"team_id\"], axis=1).dropna()\n",
    "sum_stats = [stats_frame[col].describe().reset_index(drop=True) for col in stats_frame.columns]\n",
    "p_summary = pd.DataFrame(sum_stats)\n",
    "p_summary.columns = [\"count\", \"mean\", \"std\", \"min\", \"25%\", \"50%\", \"75%\", \"max\"]\n",
    "q_widget = qgrid.show_grid(p_summary.round(2), show_toolbar=True)\n",
    "q_widget"
   ]
  },
  {
   "cell_type": "markdown",
   "metadata": {},
   "source": [
    "# Also do one with the player's names and equivalent percentile for each stat ?"
   ]
  },
  {
   "cell_type": "code",
   "execution_count": null,
   "metadata": {},
   "outputs": [],
   "source": [
    "import numpy as np\n",
    "from bokeh.plotting import figure\n",
    "from bokeh.io import output_notebook, show, output_file\n",
    "from bokeh.models import ColumnDataSource, HoverTool, Panel\n",
    "from bokeh.models.widgets import Tabs\n",
    "\n"
   ]
  },
  {
   "cell_type": "markdown",
   "metadata": {},
   "source": [
    "# Team averages\n",
    "\n",
    "Now we want to look at average stats for teams, to see who is performing the best overall.\n",
    "\n",
    "## Getting averages\n",
    "\n",
    "We just split the player data by team and write them to separate JSONs."
   ]
  },
  {
   "cell_type": "code",
   "execution_count": 123,
   "metadata": {},
   "outputs": [],
   "source": [
    "data_folder = \"DATA/\"\n",
    "id_to_name = hitting_df[[\"team_id\", \"team_abb\"]].drop_duplicates().to_dict(\"records\")\n",
    "for team in id_to_name:\n",
    "    with open(data_folder+team[\"team_abb\"]+\".json\", \"w\") as f:\n",
    "        json.dump(r.get_stats(team_id=team[\"team_id\"]), f)\n",
    "        "
   ]
  },
  {
   "cell_type": "markdown",
   "metadata": {},
   "source": [
    "Then we turn the JSONs into CSVs and calculate averages for all players in the sheet, to be stored as a row in the sheet under [\"name\"] `team_avg`.\n",
    "\n",
    "# the file reading/writing might not work; I didn't test it"
   ]
  },
  {
   "cell_type": "code",
   "execution_count": null,
   "metadata": {},
   "outputs": [],
   "source": [
    "csv_folder = data_folder+\"CSV/\"\n",
    "for team in id_to_name:\n",
    "    with open(data_folder+team[\"team_abb\"]+\".json\", \"r\") as f:\n",
    "        js = json.load(f)\n",
    "        frame = pd.DataFrame([[i[\"player\"][\"fullName\"]]+list(i[\"stat\"].values()) for i in js[0][\"splits\"]], columns=[\"name\"]+list(js[0][\"splits\"][0][\"stat\"].keys()))\n",
    "        avgs = frame.mean(axis=0).round(3)\n",
    "        avgs[\"name\"] = \"team_avg\"\n",
    "        frame = frame.append(avgs, ignore_index=True)\n",
    "        frame.set_index(keys=\"name\", inplace=True)\n",
    "        frame.to_csv(csv_folder+team[\"team_abb\"]+\"_hitting.csv\")\n",
    "        \n",
    "        frame = pd.DataFrame([[i[\"player\"][\"fullName\"]]+list(i[\"stat\"].values()) for i in js[1][\"splits\"]], columns=[\"name\"]+list(js[1][\"splits\"][0][\"stat\"].keys()))\n",
    "        avgs = frame.mean(axis=0).round(3)\n",
    "        avgs[\"name\"] = \"team_avg\"\n",
    "        frame = frame.append(avgs, ignore_index=True)\n",
    "        frame.set_index(keys=\"name\", inplace=True)\n",
    "        frame.to_csv(csv_folder+team[\"team_abb\"]+\"_pitching.csv\")\n"
   ]
  },
  {
   "cell_type": "markdown",
   "metadata": {},
   "source": [
    "Use these functions to get the tables with the averages; the team_avg data is not stored in the file but is calculated by these functions."
   ]
  },
  {
   "cell_type": "code",
   "execution_count": 157,
   "metadata": {},
   "outputs": [],
   "source": [
    "def get_team_hitting_avg_df():\n",
    "    avgs = []\n",
    "    for team in id_to_name:\n",
    "        df = pd.read_csv(csv_folder+team[\"team_abb\"]+\"_hitting.csv\", index_col=\"name\")\n",
    "        avg = df.iloc[-1]\n",
    "        avgs.append(avg)\n",
    "    avg_frame = pd.DataFrame(avgs, index = [team[\"team_abb\"] for team in id_to_name])\n",
    "    return avg_frame\n",
    "\n",
    "def get_team_pitching_avg_df():\n",
    "    avgs = []\n",
    "    for team in id_to_name:\n",
    "        df = pd.read_csv(csv_folder+team[\"team_abb\"]+\"_pitching.csv\", index_col=\"name\")\n",
    "        avg = df.iloc[-1]\n",
    "        avgs.append(avg)\n",
    "    avg_frame = pd.DataFrame(avgs, index = [team[\"team_abb\"] for team in id_to_name])\n",
    "    return avg_frame"
   ]
  },
  {
   "cell_type": "code",
   "execution_count": 169,
   "metadata": {
    "scrolled": true
   },
   "outputs": [
    {
     "data": {
      "application/vnd.jupyter.widget-view+json": {
       "model_id": "03912eb98a5149e6a69d953f8c853f27",
       "version_major": 2,
       "version_minor": 0
      },
      "text/plain": [
       "QgridWidget(grid_options={'fullWidthRows': True, 'syncColumnCellResize': True, 'forceFitColumns': False, 'defa…"
      ]
     },
     "metadata": {},
     "output_type": "display_data"
    }
   ],
   "source": [
    "avg_hitting = get_team_hitting_avg_df()\n",
    "q_widget = qgrid.show_grid(avg_hitting, show_toolbar=True, grid_options={\"forceFitColumns\":False, \"defaultColumnWidth\":70})\n",
    "q_widget"
   ]
  },
  {
   "cell_type": "code",
   "execution_count": 182,
   "metadata": {
    "scrolled": true
   },
   "outputs": [
    {
     "data": {
      "application/vnd.jupyter.widget-view+json": {
       "model_id": "7b092f3e61b0463fa717956afb80b25a",
       "version_major": 2,
       "version_minor": 0
      },
      "text/plain": [
       "QgridWidget(grid_options={'fullWidthRows': True, 'syncColumnCellResize': True, 'forceFitColumns': False, 'defa…"
      ]
     },
     "metadata": {},
     "output_type": "display_data"
    }
   ],
   "source": [
    "avg_pitching = get_team_pitching_avg_df()\n",
    "q_widget = qgrid.show_grid(avg_pitching, show_toolbar=True, grid_options={\"forceFitColumns\":False, \"defaultColumnWidth\":70})\n",
    "q_widget"
   ]
  },
  {
   "cell_type": "markdown",
   "metadata": {},
   "source": [
    "# It occurs to me that some of the stats are averages of averages, which doesn't work (unless corrected for by the number of games/appearances)\n",
    "\n",
    "# Ranking\n",
    "Now let's try ranking the hitters by several stats at once, using a rank fusion algorithm to calculate an overall ranking."
   ]
  },
  {
   "cell_type": "code",
   "execution_count": 236,
   "metadata": {},
   "outputs": [],
   "source": [
    "def ranker(df, labels, asc_list=None, top=5):\n",
    "    if asc_list == None:\n",
    "        asc_list = len(labels)*[True] \n",
    "    \n",
    "    rankings = [df[label].rank(ascending=asc) for asc, label in zip(asc_list, labels)]\n",
    "    frame = pd.DataFrame(rankings)\n",
    "    sum_ = frame.sum(axis=0).round(3)\n",
    "    try:\n",
    "        sum_.index = df[\"name\"]\n",
    "    except KeyError:\n",
    "        pass\n",
    "    return(sum_.sort_values(ascending=False)[:top])"
   ]
  },
  {
   "cell_type": "markdown",
   "metadata": {},
   "source": [
    "## Ranking Hitters"
   ]
  },
  {
   "cell_type": "code",
   "execution_count": 229,
   "metadata": {
    "scrolled": false
   },
   "outputs": [
    {
     "data": {
      "text/plain": [
       "name\n",
       "Dudley Mueller          902.0\n",
       "Aldon Cashmoney         897.0\n",
       "Jaxon Buckley           888.0\n",
       "Valentine Games         887.5\n",
       "Nagomi Mcdaniel         881.0\n",
       "Jode Preston            873.0\n",
       "Comfort Septemberish    860.0\n",
       "Margarito Nava          852.5\n",
       "Eduardo Woodman         852.0\n",
       "Rai Spliff              845.5\n",
       "dtype: float64"
      ]
     },
     "execution_count": 229,
     "metadata": {},
     "output_type": "execute_result"
    }
   ],
   "source": [
    "hitting_ranks = ranker(hitting_df, labels=[\"on_base_slugging\", \"total_bases\", \"batting_average\", \"runs_batted_in\"], top=10)\n",
    "hitting_ranks"
   ]
  },
  {
   "cell_type": "markdown",
   "metadata": {},
   "source": [
    "## Ranking Pitchers"
   ]
  },
  {
   "cell_type": "code",
   "execution_count": 238,
   "metadata": {
    "scrolled": true
   },
   "outputs": [
    {
     "data": {
      "text/plain": [
       "name\n",
       "Agan Harrison        296.0\n",
       "Agan Harrison        277.0\n",
       "Edric Tosser         276.0\n",
       "Edric Tosser         275.0\n",
       "Peanut Bong          275.0\n",
       "Percival Wheeler     274.5\n",
       "Cory Twelve          264.5\n",
       "Stephanie Winters    251.0\n",
       "Sexton Wheerer       251.0\n",
       "Mooney Doctor        249.0\n",
       "dtype: float64"
      ]
     },
     "execution_count": 238,
     "metadata": {},
     "output_type": "execute_result"
    }
   ],
   "source": [
    "pitching_ranks = ranker(pitching_df, labels=[\"earned_run_average\", \"strikeouts\", \"whip\", \"hits_allowed\"], asc_list=[True, True, True, False], top=10)\n",
    "pitching_ranks"
   ]
  },
  {
   "cell_type": "markdown",
   "metadata": {},
   "source": [
    "## Calculating better metrics\n",
    "### Hitters:\n",
    "#### Runs Created\n",
    "- We will calculate Runs Created (RC)\n",
    "The technical formula for this is \n",
    "\n",
    "    `((hits+walks-caught_stealing+hit_by_pitch-gidp) * (total_bases +(.26 * (walks-intentional_walks+hit_by_pitch)) + (.52 * ( sacrifice_hits+sacrifice_flies+stolen_bases))) / (at_bats+walks+hit_by_pitch+sacrifice_hit+sacrifice_flies)`\n",
    "    \n",
    "Note that we will be skipping the intentional walks (IBB) because this data is not tracked (or in the game, I guess, except for Charmed batters)."
   ]
  },
  {
   "cell_type": "code",
   "execution_count": 255,
   "metadata": {
    "scrolled": true
   },
   "outputs": [
    {
     "data": {
      "application/vnd.jupyter.widget-view+json": {
       "model_id": "d5133bb9655f4da7ad657869a74a55c4",
       "version_major": 2,
       "version_minor": 0
      },
      "text/plain": [
       "QgridWidget(grid_options={'fullWidthRows': True, 'syncColumnCellResize': True, 'forceFitColumns': False, 'defa…"
      ]
     },
     "metadata": {},
     "output_type": "display_data"
    }
   ],
   "source": [
    "rc_df = hitting_df.assign(runs_created = lambda x: ((x.hits+x.walks-x.caught_stealing+x.hit_by_pitches)*\n",
    "                          (x.total_bases + (.26 * (x.walks+x.hit_by_pitches) )+(.52*( x.sacrifice_bunts+x.sacrifice_flies+x.stolen_bases))))/\n",
    "                         (x.at_bats+x.walks+x.hit_by_pitches+x.sacrifice_bunts+x.sacrifice_flies) )\n",
    "q_widget = qgrid.show_grid(rc_df, show_toolbar=True, grid_options={\"forceFitColumns\":False, \"defaultColumnWidth\":50})\n",
    "q_widget"
   ]
  },
  {
   "cell_type": "markdown",
   "metadata": {},
   "source": [
    "# Put any other metrics in here and add them to the comparison\n",
    "also add the ranker one"
   ]
  },
  {
   "cell_type": "markdown",
   "metadata": {},
   "source": [
    "Let's compare a few different metrics:"
   ]
  },
  {
   "cell_type": "code",
   "execution_count": 306,
   "metadata": {},
   "outputs": [
    {
     "data": {
      "text/html": [
       "<div>\n",
       "<style scoped>\n",
       "    .dataframe tbody tr th:only-of-type {\n",
       "        vertical-align: middle;\n",
       "    }\n",
       "\n",
       "    .dataframe tbody tr th {\n",
       "        vertical-align: top;\n",
       "    }\n",
       "\n",
       "    .dataframe thead th {\n",
       "        text-align: right;\n",
       "    }\n",
       "</style>\n",
       "<table border=\"1\" class=\"dataframe\">\n",
       "  <thead>\n",
       "    <tr style=\"text-align: right;\">\n",
       "      <th></th>\n",
       "      <th>name</th>\n",
       "      <th>on_base_slugging</th>\n",
       "    </tr>\n",
       "  </thead>\n",
       "  <tbody>\n",
       "    <tr>\n",
       "      <th>133</th>\n",
       "      <td>Velasquez Meadows</td>\n",
       "      <td>2.0</td>\n",
       "    </tr>\n",
       "    <tr>\n",
       "      <th>69</th>\n",
       "      <td>Rhys Trombone</td>\n",
       "      <td>2.0</td>\n",
       "    </tr>\n",
       "    <tr>\n",
       "      <th>64</th>\n",
       "      <td>Miguel Javier</td>\n",
       "      <td>2.0</td>\n",
       "    </tr>\n",
       "    <tr>\n",
       "      <th>109</th>\n",
       "      <td>Lars Mendoza</td>\n",
       "      <td>2.0</td>\n",
       "    </tr>\n",
       "    <tr>\n",
       "      <th>1</th>\n",
       "      <td>Bennett Browning</td>\n",
       "      <td>2.0</td>\n",
       "    </tr>\n",
       "    <tr>\n",
       "      <th>...</th>\n",
       "      <td>...</td>\n",
       "      <td>...</td>\n",
       "    </tr>\n",
       "    <tr>\n",
       "      <th>70</th>\n",
       "      <td>Shaquille Torres</td>\n",
       "      <td>0.0</td>\n",
       "    </tr>\n",
       "    <tr>\n",
       "      <th>166</th>\n",
       "      <td>José Haley</td>\n",
       "      <td>0.0</td>\n",
       "    </tr>\n",
       "    <tr>\n",
       "      <th>163</th>\n",
       "      <td>Famous Oconnor</td>\n",
       "      <td>0.0</td>\n",
       "    </tr>\n",
       "    <tr>\n",
       "      <th>113</th>\n",
       "      <td>Paul Barnes</td>\n",
       "      <td>0.0</td>\n",
       "    </tr>\n",
       "    <tr>\n",
       "      <th>159</th>\n",
       "      <td>Sebastian Townsend</td>\n",
       "      <td>NaN</td>\n",
       "    </tr>\n",
       "  </tbody>\n",
       "</table>\n",
       "<p>231 rows × 2 columns</p>\n",
       "</div>"
      ],
      "text/plain": [
       "                   name  on_base_slugging\n",
       "133   Velasquez Meadows               2.0\n",
       "69        Rhys Trombone               2.0\n",
       "64        Miguel Javier               2.0\n",
       "109        Lars Mendoza               2.0\n",
       "1      Bennett Browning               2.0\n",
       "..                  ...               ...\n",
       "70     Shaquille Torres               0.0\n",
       "166          José Haley               0.0\n",
       "163      Famous Oconnor               0.0\n",
       "113         Paul Barnes               0.0\n",
       "159  Sebastian Townsend               NaN\n",
       "\n",
       "[231 rows x 2 columns]"
      ]
     },
     "execution_count": 306,
     "metadata": {},
     "output_type": "execute_result"
    }
   ],
   "source": [
    "rc_df[[\"name\", \"on_base_slugging\"]].sort_values(by=\"on_base_slugging\", ascending=False)"
   ]
  },
  {
   "cell_type": "code",
   "execution_count": 289,
   "metadata": {},
   "outputs": [
    {
     "data": {
      "application/vnd.jupyter.widget-view+json": {
       "model_id": "3cb9e25bcf154ab8bb83497dd3eba08b",
       "version_major": 2,
       "version_minor": 0
      },
      "text/plain": [
       "QgridWidget(grid_options={'fullWidthRows': True, 'syncColumnCellResize': True, 'forceFitColumns': False, 'defa…"
      ]
     },
     "metadata": {},
     "output_type": "display_data"
    }
   ],
   "source": [
    "rank_compare = pd.DataFrame({\"OBS\": rc_df[[\"name\", \"on_base_slugging\"]].sort_values(\n",
    "                                        by=\"on_base_slugging\", ascending=False)[\"name\"].reset_index(\n",
    "                                        drop=True), \n",
    "                             \"OBS_drop\": rc_df[rc_df[\"plate_appearances\"] > 5][[\"name\", \"on_base_slugging\"]].reindex(range(len(rc_df))).sort_values(\n",
    "                                        by=\"on_base_slugging\", ascending=False)[\"name\"].reset_index(\n",
    "                                        drop=True),\n",
    "                            \"RC\": rc_df[[\"name\", \"runs_created\"]].sort_values(\n",
    "                                        by=\"runs_created\",  ascending=False)[\"name\"].reset_index(\n",
    "                                        drop=True)})\n",
    "q_widget = qgrid.show_grid(rank_compare, show_toolbar=True, grid_options={\"forceFitColumns\":False, \"defaultColumnWidth\":150})\n",
    "q_widget"
   ]
  },
  {
   "cell_type": "markdown",
   "metadata": {},
   "source": [
    "OBS tends to be skewed in players with very few plate appearances, so we exclude those with less than 5 PA to get the `OBS_drop` column."
   ]
  },
  {
   "cell_type": "markdown",
   "metadata": {},
   "source": [
    "## Pitchers\n",
    "\n",
    "Earned runs allowed is a decent metric, but does not tell the whole story, since it depends in part on the performance of the fielders. We will look at some Defense Independent Pitching Statistics (DIPS) to rectify this.\n",
    "\n",
    "### Fielding Independent Pitching (FIP)\n",
    "The formula is `(13*home_runs + 3*walks - 2*strikeouts)/innings_pitched) + C` where C is a constant term that recenters the average FIP to match the average ERA\n",
    "\n",
    "### Expected Fielding Independent Pitching (xFIP)\n",
    "This is the same as FIP except the home run rate is normalized to the league average (giving the \"expected\" rate of home runs).\n",
    "\n",
    "The formula is `(( 13*(fly_balls*league_HR/FB%) ) + ( 3*(walks+hit_by_pitch)) - (2*strikeouts)) / innings_pitched) + C`\n",
    "\n",
    "Okay, actually we can't calculate this because we don't have stats concerning fly balls."
   ]
  },
  {
   "cell_type": "code",
   "execution_count": 297,
   "metadata": {},
   "outputs": [
    {
     "name": "stdout",
     "output_type": "stream",
     "text": [
      "Index(['name', 'id', 'team_abb', 'team_id', 'games', 'wins', 'losses',\n",
      "       'win_pct', 'pitches_thrown', 'batters_faced', 'outs_recorded',\n",
      "       'innings', 'runs_allowed', 'shutouts', 'quality_starts', 'strikeouts',\n",
      "       'walks', 'home_runs_allowed', 'hits_allowed', 'hit_by_pitches',\n",
      "       'earned_run_average', 'walks_per_9', 'hits_per_9', 'strikeouts_per_9',\n",
      "       'home_runs_per_9', 'whip', 'strikeouts_per_walk'],\n",
      "      dtype='object')\n",
      "Index(['name', 'id', 'team_abb', 'team_id', 'batting_average',\n",
      "       'on_base_percentage', 'slugging', 'appearances', 'plate_appearances',\n",
      "       'at_bats', 'hits', 'walks', 'singles', 'doubles', 'triples',\n",
      "       'quadruples', 'home_runs', 'runs_batted_in', 'strikeouts',\n",
      "       'sacrifice_bunts', 'sacrifice_flies', 'at_bats_risp', 'hits_risp',\n",
      "       'batting_average_risp', 'on_base_slugging', 'total_bases',\n",
      "       'hit_by_pitches', 'ground_outs', 'flyouts', 'gidp', 'stolen_bases',\n",
      "       'caught_stealing', 'runs'],\n",
      "      dtype='object')\n"
     ]
    }
   ],
   "source": [
    "print(pitching_df.columns)\n",
    "print(hitting_df.columns)"
   ]
  },
  {
   "cell_type": "code",
   "execution_count": 303,
   "metadata": {
    "scrolled": true
   },
   "outputs": [
    {
     "data": {
      "application/vnd.jupyter.widget-view+json": {
       "model_id": "8ea398ae72174212941d7bbe8be925d3",
       "version_major": 2,
       "version_minor": 0
      },
      "text/plain": [
       "QgridWidget(grid_options={'fullWidthRows': True, 'syncColumnCellResize': True, 'forceFitColumns': False, 'defa…"
      ]
     },
     "metadata": {},
     "output_type": "display_data"
    }
   ],
   "source": [
    "dips_df = pitching_df.assign(fip = lambda x: (((13*x.home_runs_allowed) + (3*x.walks) - (2*x.strikeouts))/x.innings))\n",
    "\n",
    "dips_df[\"fip\"] = dips_df[\"fip\"] + (pitching_df[\"earned_run_average\"].mean() - dips_df[\"fip\"].mean())\n",
    "q_widget = qgrid.show_grid(dips_df[[\"name\", \"earned_run_average\", \"fip\", \"whip\", \"strikeouts_per_9\"]], show_toolbar=True, grid_options={\"forceFitColumns\":False, \"defaultColumnWidth\":150})\n",
    "q_widget"
   ]
  },
  {
   "cell_type": "code",
   "execution_count": 305,
   "metadata": {},
   "outputs": [
    {
     "data": {
      "text/plain": [
       "name\n",
       "Wyatt Pothos          423.0\n",
       "Burke Gonzales        421.0\n",
       "Hiroto Wilcox         416.0\n",
       "Theodore Cervantes    409.0\n",
       "Gabriel Griffith      399.0\n",
       "Dunlap Figueroa       399.0\n",
       "Yosh Carpenter        391.5\n",
       "Rafael Davids         390.0\n",
       "Curry Aliciakeyes     388.0\n",
       "Qais Dogwalker        385.5\n",
       "dtype: float64"
      ]
     },
     "execution_count": 305,
     "metadata": {},
     "output_type": "execute_result"
    }
   ],
   "source": [
    "ranker(dips_df, [\"earned_run_average\", \"fip\", \"whip\", \"strikeouts_per_9\"], [False, False, False, True], top=10)"
   ]
  }
 ],
 "metadata": {
  "kernelspec": {
   "display_name": "Python 3",
   "language": "python",
   "name": "python3"
  },
  "language_info": {
   "codemirror_mode": {
    "name": "ipython",
    "version": 3
   },
   "file_extension": ".py",
   "mimetype": "text/x-python",
   "name": "python",
   "nbconvert_exporter": "python",
   "pygments_lexer": "ipython3",
   "version": "3.8.2"
  }
 },
 "nbformat": 4,
 "nbformat_minor": 4
}
