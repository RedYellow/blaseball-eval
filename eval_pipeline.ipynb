{
 "cells": [
  {
   "cell_type": "markdown",
   "metadata": {},
   "source": [
    "This notebook is designed to automatically output a decent player/team evaluation for each season."
   ]
  },
  {
   "cell_type": "code",
   "execution_count": 36,
   "metadata": {},
   "outputs": [],
   "source": [
    "from blaseball_mike import reference as r\n",
    "from blaseball_mike.models import Team\n",
    "import json\n",
    "import pandas as pd\n",
    "import qgrid"
   ]
  },
  {
   "cell_type": "markdown",
   "metadata": {},
   "source": [
    "# Get the data"
   ]
  },
  {
   "cell_type": "code",
   "execution_count": 37,
   "metadata": {},
   "outputs": [],
   "source": [
    "season=13\n",
    "p_stats = r.get_stats(season=season)"
   ]
  },
  {
   "cell_type": "markdown",
   "metadata": {},
   "source": [
    "`def get_stats(type_='season', group='hitting,pitching', fields=None, season='current', game_type=None, sort_stat=None, order=None, player_id=None, team_id=None, limit=None)`\n",
    "\n",
    "Get the stats filtered by team/player/season. Defaults to fetching all stats which is extremely slow, be warned.\n",
    "\n",
    "Args\n",
    "\n",
    "**type_** : str\n",
    "The type of stat split (defaults to season).\n",
    "\n",
    "**group** : str\n",
    "The stat groups to return (e.g. hitting,pitching or hitting).\n",
    "\n",
    "**fields** : list\n",
    "The stat fields to return (e.g. [strikeouts,home_runs] or [home_runs]).\n",
    "\n",
    "**season**\n",
    "The (1-indexed) Blaseball season (or current for current season).\n",
    "\n",
    "**game_type** : str\n",
    "The type of game (e.g. R for regular season, P for postseason).\n",
    "\n",
    "**sort_stat** : str\n",
    "The stat field to sort on.\n",
    "\n",
    "**order** : str\n",
    "The order of the sorted stat field.\n",
    "\n",
    "**player_id** : str\n",
    "The ID of a player.\n",
    "\n",
    "**team_id** : str\n",
    "The ID of a team to retrieve player stats for.\n",
    "\n",
    "**limit** : int\n",
    "The number of rows to return for each field (e.g. 5).\n",
    "\n",
    "# get stats leaders as well??\n",
    "\n",
    "# Save the data"
   ]
  },
  {
   "cell_type": "code",
   "execution_count": 3,
   "metadata": {},
   "outputs": [],
   "source": [
    "import os\n",
    "\n",
    "season = p_stats[0][\"splits\"][0][\"season\"] if season == \"current\" else season\n",
    "cwd = os.getcwd()\n",
    "season_folder = os.path.join(cwd, \"Season {}\".format(season))\n",
    "if not os.path.exists(season_folder):\n",
    "   os.makedirs(season_folder)\n",
    "\n",
    "with open(season_folder+\"/player_stats.json\", \"w\") as f:\n",
    "    json.dump(p_stats, f)"
   ]
  },
  {
   "cell_type": "markdown",
   "metadata": {},
   "source": [
    "# Hitting Data"
   ]
  },
  {
   "cell_type": "code",
   "execution_count": 38,
   "metadata": {
    "scrolled": false
   },
   "outputs": [
    {
     "data": {
      "application/vnd.jupyter.widget-view+json": {
       "model_id": "21201f42a0d54065b0ac1f1752b746c8",
       "version_major": 2,
       "version_minor": 0
      },
      "text/plain": [
       "QgridWidget(grid_options={'fullWidthRows': True, 'syncColumnCellResize': True, 'forceFitColumns': False, 'defa…"
      ]
     },
     "metadata": {},
     "output_type": "display_data"
    }
   ],
   "source": [
    "hitting_df = pd.DataFrame([[i[\"player\"][\"fullName\"]]+[i[\"player\"][\"id\"]]+[i[\"team\"][\"team_abbreviation\"]]+[i[\"team\"][\"team_id\"]]+list(i[\"stat\"].values()) for i in p_stats[0][\"splits\"]], \n",
    "                         columns = [\"name\",\"id\", \"team_abb\", \"team_id\"]+list(p_stats[0][\"splits\"][0][\"stat\"].keys()))\n",
    "q_widget = qgrid.show_grid(hitting_df, show_toolbar=True, grid_options={\"forceFitColumns\":False, \"defaultColumnWidth\":50})\n",
    "q_widget"
   ]
  },
  {
   "cell_type": "markdown",
   "metadata": {},
   "source": [
    "# Pitching Data"
   ]
  },
  {
   "cell_type": "code",
   "execution_count": 39,
   "metadata": {
    "scrolled": true
   },
   "outputs": [
    {
     "data": {
      "application/vnd.jupyter.widget-view+json": {
       "model_id": "bcd333cf76f84e24b0010469abaaaf19",
       "version_major": 2,
       "version_minor": 0
      },
      "text/plain": [
       "QgridWidget(grid_options={'fullWidthRows': True, 'syncColumnCellResize': True, 'forceFitColumns': False, 'defa…"
      ]
     },
     "metadata": {},
     "output_type": "display_data"
    }
   ],
   "source": [
    "pitching_df = pd.DataFrame([[i[\"player\"][\"fullName\"]]+[i[\"player\"][\"id\"]]+[i[\"team\"][\"team_abbreviation\"]]+[i[\"team\"][\"team_id\"]]+list(i[\"stat\"].values()) for i in p_stats[1][\"splits\"]], \n",
    "                         columns = [\"name\",\"id\", \"team_abb\", \"team_id\"]+list(p_stats[1][\"splits\"][0][\"stat\"].keys()))\n",
    "\n",
    "q_widget = qgrid.show_grid(pitching_df, show_toolbar=True, grid_options={\"forceFitColumns\":False, \"defaultColumnWidth\":50})\n",
    "q_widget"
   ]
  },
  {
   "cell_type": "markdown",
   "metadata": {},
   "source": [
    "### Note\n",
    "Some players may have more than one row (this data describes one season). This is because a player may be Feedbacked\n",
    "to another team in the middle of the season. Note that team names are currently bugged when this happens, so the \n",
    "team before and after will have the same name.\n",
    "\n",
    "Note that \"NaN\" is an actual player and not an error.\n",
    "\n",
    "\"Duplicate\" hitters:"
   ]
  },
  {
   "cell_type": "code",
   "execution_count": 40,
   "metadata": {
    "scrolled": true
   },
   "outputs": [
    {
     "data": {
      "text/html": [
       "<div>\n",
       "<style scoped>\n",
       "    .dataframe tbody tr th:only-of-type {\n",
       "        vertical-align: middle;\n",
       "    }\n",
       "\n",
       "    .dataframe tbody tr th {\n",
       "        vertical-align: top;\n",
       "    }\n",
       "\n",
       "    .dataframe thead th {\n",
       "        text-align: right;\n",
       "    }\n",
       "</style>\n",
       "<table border=\"1\" class=\"dataframe\">\n",
       "  <thead>\n",
       "    <tr style=\"text-align: right;\">\n",
       "      <th></th>\n",
       "      <th>team_abb</th>\n",
       "    </tr>\n",
       "    <tr>\n",
       "      <th>name</th>\n",
       "      <th></th>\n",
       "    </tr>\n",
       "  </thead>\n",
       "  <tbody>\n",
       "    <tr>\n",
       "      <th>Augusta Chadwell</th>\n",
       "      <td>2</td>\n",
       "    </tr>\n",
       "    <tr>\n",
       "      <th>Lawrence Horne</th>\n",
       "      <td>2</td>\n",
       "    </tr>\n",
       "    <tr>\n",
       "      <th>Raúl Leal</th>\n",
       "      <td>2</td>\n",
       "    </tr>\n",
       "    <tr>\n",
       "      <th>Sutton Bishop</th>\n",
       "      <td>2</td>\n",
       "    </tr>\n",
       "    <tr>\n",
       "      <th>Sutton Picklestein</th>\n",
       "      <td>2</td>\n",
       "    </tr>\n",
       "    <tr>\n",
       "      <th>Theodore Holloway</th>\n",
       "      <td>2</td>\n",
       "    </tr>\n",
       "  </tbody>\n",
       "</table>\n",
       "</div>"
      ],
      "text/plain": [
       "                    team_abb\n",
       "name                        \n",
       "Augusta Chadwell           2\n",
       "Lawrence Horne             2\n",
       "Raúl Leal                  2\n",
       "Sutton Bishop              2\n",
       "Sutton Picklestein         2\n",
       "Theodore Holloway          2"
      ]
     },
     "execution_count": 40,
     "metadata": {},
     "output_type": "execute_result"
    }
   ],
   "source": [
    "g1 = hitting_df[[\"name\", \"team_abb\"]].groupby(\"name\").count()\n",
    "g1.loc[g1[\"team_abb\"] > 1]"
   ]
  },
  {
   "cell_type": "markdown",
   "metadata": {},
   "source": [
    "\"Duplicate\" pitchers:"
   ]
  },
  {
   "cell_type": "code",
   "execution_count": 41,
   "metadata": {},
   "outputs": [
    {
     "data": {
      "text/html": [
       "<div>\n",
       "<style scoped>\n",
       "    .dataframe tbody tr th:only-of-type {\n",
       "        vertical-align: middle;\n",
       "    }\n",
       "\n",
       "    .dataframe tbody tr th {\n",
       "        vertical-align: top;\n",
       "    }\n",
       "\n",
       "    .dataframe thead th {\n",
       "        text-align: right;\n",
       "    }\n",
       "</style>\n",
       "<table border=\"1\" class=\"dataframe\">\n",
       "  <thead>\n",
       "    <tr style=\"text-align: right;\">\n",
       "      <th></th>\n",
       "      <th>team_abb</th>\n",
       "    </tr>\n",
       "    <tr>\n",
       "      <th>name</th>\n",
       "      <th></th>\n",
       "    </tr>\n",
       "  </thead>\n",
       "  <tbody>\n",
       "    <tr>\n",
       "      <th>Bright Zimmerman</th>\n",
       "      <td>2</td>\n",
       "    </tr>\n",
       "    <tr>\n",
       "      <th>Doc Anice</th>\n",
       "      <td>2</td>\n",
       "    </tr>\n",
       "    <tr>\n",
       "      <th>Gabriel Griffith</th>\n",
       "      <td>2</td>\n",
       "    </tr>\n",
       "    <tr>\n",
       "      <th>Jaylen Hotdogfingers</th>\n",
       "      <td>3</td>\n",
       "    </tr>\n",
       "    <tr>\n",
       "      <th>Lizzy Pasta</th>\n",
       "      <td>2</td>\n",
       "    </tr>\n",
       "    <tr>\n",
       "      <th>Mindy Kugel</th>\n",
       "      <td>2</td>\n",
       "    </tr>\n",
       "    <tr>\n",
       "      <th>Yosh Carpenter</th>\n",
       "      <td>2</td>\n",
       "    </tr>\n",
       "  </tbody>\n",
       "</table>\n",
       "</div>"
      ],
      "text/plain": [
       "                      team_abb\n",
       "name                          \n",
       "Bright Zimmerman             2\n",
       "Doc Anice                    2\n",
       "Gabriel Griffith             2\n",
       "Jaylen Hotdogfingers         3\n",
       "Lizzy Pasta                  2\n",
       "Mindy Kugel                  2\n",
       "Yosh Carpenter               2"
      ]
     },
     "execution_count": 41,
     "metadata": {},
     "output_type": "execute_result"
    }
   ],
   "source": [
    "g2 = pitching_df[[\"name\", \"team_abb\"]].groupby(\"name\").count()\n",
    "g2.loc[g2[\"team_abb\"] > 1]"
   ]
  },
  {
   "cell_type": "markdown",
   "metadata": {},
   "source": [
    "# Season Summary Statistics\n",
    "## Hitters"
   ]
  },
  {
   "cell_type": "code",
   "execution_count": 59,
   "metadata": {
    "scrolled": true
   },
   "outputs": [
    {
     "data": {
      "application/vnd.jupyter.widget-view+json": {
       "model_id": "e5be4ab3ed8e4f5db335b7d255d0e7d2",
       "version_major": 2,
       "version_minor": 0
      },
      "text/plain": [
       "QgridWidget(grid_options={'fullWidthRows': True, 'syncColumnCellResize': True, 'forceFitColumns': False, 'defa…"
      ]
     },
     "metadata": {},
     "output_type": "display_data"
    }
   ],
   "source": [
    "stats_frame = hitting_df.drop(columns=[\"id\", \"name\", \"team_abb\", \"team_id\"], axis=1).dropna()\n",
    "sum_stats = [stats_frame[col].describe().reset_index(drop=True) for col in stats_frame.columns]\n",
    "p_summary = pd.DataFrame(sum_stats)\n",
    "p_summary.columns = [\"count\", \"mean\", \"std\", \"min\", \"25%\", \"50%\", \"75%\", \"max\"]\n",
    "q_widget = qgrid.show_grid(p_summary.round(2), show_toolbar=True, grid_options={\"forceFitColumns\":False, \"defaultColumnWidth\":100})\n",
    "q_widget"
   ]
  },
  {
   "cell_type": "markdown",
   "metadata": {},
   "source": [
    "### Mins and Maxes"
   ]
  },
  {
   "cell_type": "code",
   "execution_count": 61,
   "metadata": {
    "scrolled": true
   },
   "outputs": [
    {
     "data": {
      "application/vnd.jupyter.widget-view+json": {
       "model_id": "39aaabce7346415396e0c435770b8332",
       "version_major": 2,
       "version_minor": 0
      },
      "text/plain": [
       "QgridWidget(grid_options={'fullWidthRows': True, 'syncColumnCellResize': True, 'forceFitColumns': False, 'defa…"
      ]
     },
     "metadata": {},
     "output_type": "display_data"
    }
   ],
   "source": [
    "min_max_names = []\n",
    "for stat in stats_frame.columns:\n",
    "    min_ = stats_frame[stat].min()\n",
    "    max_ = stats_frame[stat].max()\n",
    "    min_max_names.append({\"min\":min_, \"min_name\":\", \".join([i[0] for i in hitting_df.loc[hitting_df[stat] == stats_frame[stat].min()].values]),\n",
    "                         \"max\":max_, \"max_name\":\", \".join([i[0] for i in hitting_df.loc[hitting_df[stat] == stats_frame[stat].max()].values])})\n",
    "min_max_df = pd.DataFrame(min_max_names, index=stats_frame.columns)\n",
    "q_widget = qgrid.show_grid(min_max_df.round(2), show_toolbar=True, grid_options={\"forceFitColumns\":False, \"defaultColumnWidth\":100})\n",
    "q_widget"
   ]
  },
  {
   "cell_type": "markdown",
   "metadata": {},
   "source": [
    "## Pitchers"
   ]
  },
  {
   "cell_type": "code",
   "execution_count": 42,
   "metadata": {
    "scrolled": true
   },
   "outputs": [
    {
     "data": {
      "application/vnd.jupyter.widget-view+json": {
       "model_id": "cc98535f132d4a25849bbcebc509fb15",
       "version_major": 2,
       "version_minor": 0
      },
      "text/plain": [
       "QgridWidget(grid_options={'fullWidthRows': True, 'syncColumnCellResize': True, 'forceFitColumns': False, 'defa…"
      ]
     },
     "metadata": {},
     "output_type": "display_data"
    }
   ],
   "source": [
    "stats_frame = pitching_df.drop(columns=[\"id\", \"name\", \"team_abb\", \"team_id\"], axis=1).dropna()\n",
    "sum_stats = [stats_frame[col].describe().reset_index(drop=True) for col in stats_frame.columns]\n",
    "p_summary = pd.DataFrame(sum_stats)\n",
    "p_summary.columns = [\"count\", \"mean\", \"std\", \"min\", \"25%\", \"50%\", \"75%\", \"max\"]\n",
    "q_widget = qgrid.show_grid(p_summary.round(2), show_toolbar=True, grid_options={\"forceFitColumns\":False, \"defaultColumnWidth\":100})\n",
    "q_widget"
   ]
  },
  {
   "cell_type": "markdown",
   "metadata": {},
   "source": [
    "### Mins and Maxes"
   ]
  },
  {
   "cell_type": "code",
   "execution_count": 56,
   "metadata": {
    "scrolled": true
   },
   "outputs": [
    {
     "data": {
      "application/vnd.jupyter.widget-view+json": {
       "model_id": "d0f182d1c06346a8ac669d5bc84ee479",
       "version_major": 2,
       "version_minor": 0
      },
      "text/plain": [
       "QgridWidget(grid_options={'fullWidthRows': True, 'syncColumnCellResize': True, 'forceFitColumns': False, 'defa…"
      ]
     },
     "metadata": {},
     "output_type": "display_data"
    }
   ],
   "source": [
    "min_max_names = []\n",
    "for stat in stats_frame.columns:\n",
    "    min_ = stats_frame[stat].min()\n",
    "    max_ = stats_frame[stat].max()\n",
    "    min_max_names.append({\"min\":min_, \"min_name\":\", \".join([i[0] for i in pitching_df.loc[pitching_df[stat] == stats_frame[stat].min()].values]),\n",
    "                         \"max\":max_, \"max_name\":\", \".join([i[0] for i in pitching_df.loc[pitching_df[stat] == stats_frame[stat].max()].values])})\n",
    "min_max_df = pd.DataFrame(min_max_names, index=stats_frame.columns)\n",
    "q_widget = qgrid.show_grid(min_max_df.round(2), show_toolbar=True, grid_options={\"forceFitColumns\":False, \"defaultColumnWidth\":100})\n",
    "q_widget"
   ]
  },
  {
   "cell_type": "markdown",
   "metadata": {},
   "source": [
    "# Metrics Comparison\n",
    "## Hitters"
   ]
  },
  {
   "cell_type": "code",
   "execution_count": 63,
   "metadata": {},
   "outputs": [
    {
     "data": {
      "application/vnd.jupyter.widget-view+json": {
       "model_id": "aaed874db1224403a8a64209f753e533",
       "version_major": 2,
       "version_minor": 0
      },
      "text/plain": [
       "QgridWidget(grid_options={'fullWidthRows': True, 'syncColumnCellResize': True, 'forceFitColumns': False, 'defa…"
      ]
     },
     "metadata": {},
     "output_type": "display_data"
    }
   ],
   "source": [
    "rc_df = hitting_df.assign(runs_created = lambda x: ((x.hits+x.walks-x.caught_stealing+x.hit_by_pitches)*\n",
    "                          (x.total_bases + (.26 * (x.walks+x.hit_by_pitches) )+(.52*( x.sacrifice_bunts+x.sacrifice_flies+x.stolen_bases))))/\n",
    "                         (x.at_bats+x.walks+x.hit_by_pitches+x.sacrifice_bunts+x.sacrifice_flies) )\n",
    "                         \n",
    "rank_compare = pd.DataFrame({\"OBS\": rc_df[[\"name\", \"on_base_slugging\"]].sort_values(\n",
    "                                        by=\"on_base_slugging\", ascending=False)[\"name\"].reset_index(\n",
    "                                        drop=True), \n",
    "                             \"OBS_drop\": rc_df[rc_df[\"plate_appearances\"] > 5][[\"name\", \"on_base_slugging\"]].reindex(range(len(rc_df))).sort_values(\n",
    "                                        by=\"on_base_slugging\", ascending=False)[\"name\"].reset_index(\n",
    "                                        drop=True),\n",
    "                            \"RC\": rc_df[[\"name\", \"runs_created\"]].sort_values(\n",
    "                                        by=\"runs_created\",  ascending=False)[\"name\"].reset_index(\n",
    "                                        drop=True),\n",
    "                            \"BA_RISP\": rc_df[[\"name\", \"batting_average_risp\"]].sort_values(\n",
    "                                        by=\"batting_average_risp\",  ascending=False)[\"name\"].reset_index(\n",
    "                                        drop=True)})\n",
    "q_widget = qgrid.show_grid(rank_compare, show_toolbar=True, grid_options={\"forceFitColumns\":False, \"defaultColumnWidth\":150})\n",
    "q_widget"
   ]
  },
  {
   "cell_type": "markdown",
   "metadata": {},
   "source": [
    "## Pitchers"
   ]
  },
  {
   "cell_type": "code",
   "execution_count": null,
   "metadata": {},
   "outputs": [],
   "source": []
  }
 ],
 "metadata": {
  "kernelspec": {
   "display_name": "Python 3",
   "language": "python",
   "name": "python3"
  },
  "language_info": {
   "codemirror_mode": {
    "name": "ipython",
    "version": 3
   },
   "file_extension": ".py",
   "mimetype": "text/x-python",
   "name": "python",
   "nbconvert_exporter": "python",
   "pygments_lexer": "ipython3",
   "version": "3.8.2"
  }
 },
 "nbformat": 4,
 "nbformat_minor": 4
}
